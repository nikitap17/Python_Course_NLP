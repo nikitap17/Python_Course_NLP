{
 "cells": [
  {
   "cell_type": "markdown",
   "metadata": {},
   "source": [
    "<img src=\"https://communications.univie.ac.at/fileadmin/_processed_/csm_Uni_Logo_2016_2f47aacf37.jpg\" \n",
    "     alt=\"Logo Universität Wien\" \n",
    "     width=\"200\"/>\n",
    "\n",
    "# Practical Machine Learning for Natural Language Processing - 2023 SS  \n",
    "\n",
    "### Assigment 2 - Generators and Classes   \n",
    "\n",
    "In this assigment we are going to play with generators and instances/classes - structures that retain state.  "
   ]
  },
  {
   "cell_type": "markdown",
   "metadata": {},
   "source": [
    "***"
   ]
  },
  {
   "cell_type": "code",
   "execution_count": 1,
   "metadata": {
    "tags": []
   },
   "outputs": [],
   "source": [
    "import numpy as np\n",
    "import matplotlib.pyplot as plt\n",
    "import time\n",
    "from itertools import chain"
   ]
  },
  {
   "cell_type": "markdown",
   "metadata": {
    "tags": []
   },
   "source": [
    "### 1. Alea Iacta Est  \n",
    "\n",
    "(a) Using [generator functions](https://github.com/rsouza/Python_Course/blob/master/Notebooks/Python_Basic/03_Functions.ipynb), create an object that emulates an eight-sided dice (1-8) that is biased, such that the probability of this generator function returning a certain value is proportional to the value itself (i.e. the face \"6\" is 3 times more likely to come out than face \"2\");  \n",
    "\n",
    " <img src=\"https://cdn11.bigcommerce.com/s-70184/images/stencil/608x608/products/532/7428/d8-dice-blue__64321.1664335674.jpg\" alt=\"8-Dice\" style=\"width:250px;height:300px;\"> \n",
    "\n",
    "(b) Using [Matplotlib](https://matplotlib.org/) plt.plot or plt.hist commands, show graphically the result of 10000 casts of the die;  \n",
    "\n",
    "(c) Modify this generator function so that it terminates automatically when all possible values (1,2,3,4,5,6,7,8) have been cast at least once. In this case, it will return the total absolute time that has elapsed since the first iteration.  (hint: a function can have both **return** and **yield** commands)  "
   ]
  },
  {
   "cell_type": "code",
   "execution_count": 2,
   "metadata": {
    "tags": []
   },
   "outputs": [
    {
     "data": {
      "text/plain": [
       "array([1., 2., 2., 3., 3., 3., 4., 4., 4., 4., 5., 5., 5., 5., 5., 6., 6.,\n",
       "       6., 6., 6., 6., 7., 7., 7., 7., 7., 7., 7., 8., 8., 8., 8., 8., 8.,\n",
       "       8., 8.])"
      ]
     },
     "execution_count": 2,
     "metadata": {},
     "output_type": "execute_result"
    }
   ],
   "source": [
    "dicey = ()\n",
    "for i in range(1,9):\n",
    "    dicey = np.append(dicey,np.repeat(i,i))\n",
    "\n",
    "dicey"
   ]
  },
  {
   "cell_type": "code",
   "execution_count": 3,
   "metadata": {},
   "outputs": [],
   "source": [
    "# a)\n",
    "def dice():\n",
    "    while True:\n",
    "        yield(np.random.choice(dicey)) #the probability to land a certain number equals to its reversed number, so 1 == .1, 4 == .4\n",
    "        "
   ]
  },
  {
   "cell_type": "code",
   "execution_count": null,
   "metadata": {},
   "outputs": [],
   "source": [
    "# b) Visualizing"
   ]
  },
  {
   "cell_type": "code",
   "execution_count": 38,
   "metadata": {
    "tags": []
   },
   "outputs": [
    {
     "name": "stdout",
     "output_type": "stream",
     "text": [
      "[8.0, 6.0, 7.0, 5.0, 8.0, 8.0, 8.0, 6.0, 6.0, 8.0, 6.0, 6.0, 7.0, 5.0, 8.0, 4.0, 6.0, 7.0, 5.0, 7.0]\n"
     ]
    },
    {
     "data": {
      "text/plain": [
       "(array([ 30.,  51.,  82., 116., 143., 161., 197., 220.]),\n",
       " array([0.5, 1.5, 2.5, 3.5, 4.5, 5.5, 6.5, 7.5, 8.5]),\n",
       " <BarContainer object of 8 artists>)"
      ]
     },
     "execution_count": 38,
     "metadata": {},
     "output_type": "execute_result"
    },
    {
     "data": {
      "image/png": "[encoded data removed]",
      "text/plain": [
       "<Figure size 432x288 with 1 Axes>"
      ]
     },
     "metadata": {
      "needs_background": "light"
     },
     "output_type": "display_data"
    }
   ],
   "source": [
    "#first, i save the values in a list\n",
    "dice1 = dice()\n",
    "dice_trials1000 = [next(dice1) for i in range(1000)]\n",
    "print(dice_trials1000[0:20])\n",
    "#then plot:\n",
    "plt.hist(dice_trials1000, bins=np.arange(1,10)-0.5, color=\"#641975\", ec=\"k\")"
   ]
  },
  {
   "cell_type": "code",
   "execution_count": null,
   "metadata": {},
   "outputs": [],
   "source": [
    "# c) Modify this generator function so that it terminates automatically when all possible values (1,2,3,4,5,6,7,8)\n",
    "#have been cast at least once. In this case, it will return the total absolute time that has elapsed\n",
    "#since the first iteration."
   ]
  },
  {
   "cell_type": "code",
   "execution_count": 62,
   "metadata": {},
   "outputs": [
    {
     "data": {
      "text/plain": [
       "2"
      ]
     },
     "execution_count": 62,
     "metadata": {},
     "output_type": "execute_result"
    }
   ],
   "source": []
  },
  {
   "cell_type": "code",
   "execution_count": 153,
   "metadata": {},
   "outputs": [],
   "source": [
    "def diceII():\n",
    "    now = []\n",
    "    counts = np.zeros(8)\n",
    "    while not all(counts) >= 1:\n",
    "        now.append(time.time())\n",
    "        random_n = int(np.random.choice(dicey))\n",
    "        counts[random_n-1] += 1\n",
    "        yield(random_n)\n",
    "    return time.time() - now[0]"
   ]
  },
  {
   "cell_type": "code",
   "execution_count": 157,
   "metadata": {},
   "outputs": [
    {
     "ename": "StopIteration",
     "evalue": "0.015623807907104492",
     "output_type": "error",
     "traceback": [
      "\u001b[1;31m---------------------------------------------------------------------------\u001b[0m",
      "\u001b[1;31mStopIteration\u001b[0m                             Traceback (most recent call last)",
      "Input \u001b[1;32mIn [157]\u001b[0m, in \u001b[0;36m<cell line: 4>\u001b[1;34m()\u001b[0m\n\u001b[0;32m      2\u001b[0m dice2_trials \u001b[38;5;241m=\u001b[39m []\n\u001b[0;32m      3\u001b[0m \u001b[38;5;28;01mwhile\u001b[39;00m \u001b[38;5;28;01mTrue\u001b[39;00m:\n\u001b[1;32m----> 4\u001b[0m     dice2_trials\u001b[38;5;241m.\u001b[39mappend(\u001b[38;5;28;43mnext\u001b[39;49m\u001b[43m(\u001b[49m\u001b[43mdice2\u001b[49m\u001b[43m)\u001b[49m)\n",
      "\u001b[1;31mStopIteration\u001b[0m: 0.015623807907104492"
     ]
    }
   ],
   "source": [
    "dice2 = diceII()\n",
    "dice2_trials = []\n",
    "while True:\n",
    "    dice2_trials.append(next(dice2))"
   ]
  },
  {
   "cell_type": "code",
   "execution_count": 158,
   "metadata": {},
   "outputs": [
    {
     "name": "stdout",
     "output_type": "stream",
     "text": [
      "111\n"
     ]
    }
   ],
   "source": [
    "print(len(dice2_trials))"
   ]
  },
  {
   "cell_type": "markdown",
   "metadata": {},
   "source": [
    "### 2. A ticket to the first Class    \n",
    "\n",
    "+ Create a Class called \"Elevator\". Each instance of this class receives as parameters the number of floors in the building and starts the elevator on the lowest floor.  \n",
    "+ This Class should have methods and properties to allow the elevator to:\n",
    "<br></br>\n",
    "    + Receive a call - user(s) press a button to go to specific floor(s);  \n",
    "    + Receive a floor as a destination - when users enter the elevator, each one may press a button to choose destination floor;  \n",
    "    + Store and inform which floor the elevator is at each moment(consider that trips for consecutive floors takes 5 seconds, and stopping takes 10 seconds);  \n",
    "    + Store and inform which users are in the elevator;  \n",
    "    + Store and inform the sequence of floors yet to be visited;  \n",
    "    + Store the number of times the elevator stopped in each floor (passing through the floor without \"stopping\" on the floor does not count);  \n",
    "    + Refuses commands to go to inexistent floors.  \n",
    "<br></br>\n",
    "+ Simulate the behavior of the elevator serving ten users, each one calling from a random floor, and chosing a random destination floor.   \n",
    "+ Graphically illustrate the current elevator position for the requested simulation.   \n",
    "+ (BONUS) Create a smart building simulator, controlling calls made to n > 1 elevators and routing elevator properly.  "
   ]
  },
  {
   "cell_type": "code",
   "execution_count": 10,
   "metadata": {},
   "outputs": [],
   "source": [
    "class MyElevator:\n",
    "    def __init__(self,floors_min,floors_max):\n",
    "        self.n_floors = [floors_min,floors_max,floors_max-floors_min+1]\n",
    "        self.current_elev_floor = floors_min\n",
    "        #self.users = []\n",
    "        self.users_inelev = []\n",
    "        self.not_visited_floors = []\n",
    "        self.floors_visited = np.column_stack((np.arange(floors_min,floors_max+1),np.zeros(self.n_floors[-1])))\n",
    "        \n",
    "    \n",
    "    def user(self,customer, print_features = True, plot_fig = True):\n",
    "        for u in customer:\n",
    "            if len(u) != 3:\n",
    "                raise ValueError(\"object must be a list of tuples with 3 elements\")\n",
    "                        \n",
    "        self.users = customer\n",
    "        \n",
    "        for u in self.users:\n",
    "            self.not_visited_floors.append((u[1],u[2]))\n",
    "        \n",
    "            if u[2] < self.n_floors[0] or u[2] > self.n_floors[1] or u[1] < self.n_floors[0] or u[1] > self.n_floors[1]:\n",
    "                raise ValueError(\"Hola my friend, you're travelling too far! The building has not yet that many floors!\")\n",
    "\n",
    "        print(\"current floor: \" + str(Elevator_sim1.current_elev_floor))\n",
    "        print(f\"Not visited floors: {Elevator_sim1.not_visited_floors}\") \n",
    "        print(f\"Users: {Elevator_sim1.users}\")\n",
    "        print(f\"Users in elevator: {Elevator_sim1.users_inelev}\")\n",
    "        \n",
    "        x_rounds = []\n",
    "        xx = 0\n",
    "        y_levels = []\n",
    "        while len(self.not_visited_floors) > 0:  \n",
    "            users_inelev_before = len(self.users_inelev)\n",
    "            xx += 1\n",
    "            \n",
    "            for a,user in enumerate(self.users):  #put the user into elevator or remove if theay are leaving\n",
    "\n",
    "                if user[0] not in self.users_inelev and user[1] == self.current_elev_floor:\n",
    "                    self.users_inelev.append(user[0])\n",
    "                    self.not_visited_floors[a] = [self.not_visited_floors[a][1]]\n",
    "                    \n",
    "                elif user[0] in self.users_inelev and user[2] == self.current_elev_floor:\n",
    "                    self.users_inelev.remove(user[0])\n",
    "                    self.users.remove(user)\n",
    "                    self.not_visited_floors.remove(self.not_visited_floors[a])\n",
    "            \n",
    "            if users_inelev_before != len(self.users_inelev):\n",
    "                self.floors_visited[self.current_elev_floor,1] += 1\n",
    "                time.sleep(10)\n",
    "            elif self.current_elev_floor != self.not_visited_floors[0][0]:\n",
    "                time.sleep(5)\n",
    "            \n",
    "            if print_features == True:\n",
    "                print(\"current floor: \" + str(Elevator_sim1.current_elev_floor))\n",
    "                print(f\"Not visited floors: {Elevator_sim1.not_visited_floors}\") \n",
    "                print(f\"Users: {Elevator_sim1.users}\")\n",
    "                print(f\"Users in elevator: {Elevator_sim1.users_inelev}\")\n",
    "                \n",
    "            if plot_fig == True:\n",
    "                x_rounds.append(xx)\n",
    "                y_levels.append(self.current_elev_floor)\n",
    "                #plt.figure()\n",
    "                plt.bar(x_rounds,y_levels, color=\"orange\")\n",
    "                plt.ylim([self.n_floors[0],self.n_floors[1]])\n",
    "                plt.xlabel(\"Floor\")\n",
    "                plt.show()\n",
    "            \n",
    "\n",
    "            if len(self.not_visited_floors) == 0:\n",
    "                break\n",
    "                \n",
    "            if self.current_elev_floor < self.not_visited_floors[0][0]:\n",
    "                self.current_elev_floor += 1\n",
    "\n",
    "            elif self.current_elev_floor > self.not_visited_floors[0][0]:\n",
    "                self.current_elev_floor -= 1\n",
    "            else:\n",
    "                continue\n",
    "\n",
    "        \n",
    "        time.sleep(5*self.current_elev_floor)\n",
    "        self.current_elev_floor = 0\n",
    "        #self.floors_visited[self.current_elev_floor,1] += 1\n",
    "        if plot_fig == True:\n",
    "            x_rounds.append(xx)\n",
    "            y_levels.append(self.current_elev_floor)\n",
    "            #plt.figure()\n",
    "            plt.bar(x_rounds,y_levels, color=\"orange\")\n",
    "            plt.ylim([self.n_floors[0],self.n_floors[1]])\n",
    "            plt.xlabel(\"Floor\")\n",
    "            plt.show()\n",
    "        print(\"No customers in the elevator\")\n"
   ]
  },
  {
   "cell_type": "code",
   "execution_count": 11,
   "metadata": {},
   "outputs": [
    {
     "data": {
      "text/plain": [
       "[('Aang', 7, 8),\n",
       " ('Katara', 5, 4),\n",
       " ('Sokka', 1, 0),\n",
       " ('Zuko', 0, 2),\n",
       " ('Toph', 4, 5),\n",
       " ('Uncle Iroh', 3, 1),\n",
       " ('Appa', 3, 6),\n",
       " ('Momo', 4, 6),\n",
       " ('Suki', 6, 5),\n",
       " ('Azula', 4, 5)]"
      ]
     },
     "execution_count": 11,
     "metadata": {},
     "output_type": "execute_result"
    }
   ],
   "source": [
    "user_list=[]\n",
    "for i in (\"Aang\",\"Katara\",\"Sokka\",\"Zuko\",\"Toph\",\"Uncle Iroh\",\"Appa\",\"Momo\",\"Suki\",\"Azula\"):\n",
    "    user_list.append((i,np.random.randint(0,9),np.random.randint(0,9)))\n",
    "user_list"
   ]
  },
  {
   "cell_type": "code",
   "execution_count": 12,
   "metadata": {},
   "outputs": [
    {
     "name": "stdout",
     "output_type": "stream",
     "text": [
      "current floor: 0\n",
      "Not visited floors: [(7, 8), (5, 4), (1, 0), (0, 2), (4, 5), (3, 1), (3, 6), (4, 6), (6, 5), (4, 5)]\n",
      "Users: [('Aang', 7, 8), ('Katara', 5, 4), ('Sokka', 1, 0), ('Zuko', 0, 2), ('Toph', 4, 5), ('Uncle Iroh', 3, 1), ('Appa', 3, 6), ('Momo', 4, 6), ('Suki', 6, 5), ('Azula', 4, 5)]\n",
      "Users in elevator: []\n"
     ]
    },
    {
     "data": {
      "image/png": "[encoded data removed]",
      "text/plain": [
       "<Figure size 432x288 with 1 Axes>"
      ]
     },
     "metadata": {
      "needs_background": "light"
     },
     "output_type": "display_data"
    },
    {
     "data": {
      "image/png": "[encoded data removed]",
      "text/plain": [
       "<Figure size 432x288 with 1 Axes>"
      ]
     },
     "metadata": {
      "needs_background": "light"
     },
     "output_type": "display_data"
    },
    {
     "data": {
      "image/png": "[encoded data removed]",
      "text/plain": [
       "<Figure size 432x288 with 1 Axes>"
      ]
     },
     "metadata": {
      "needs_background": "light"
     },
     "output_type": "display_data"
    },
    {
     "data": {
      "image/png": "[encoded data removed]",
      "text/plain": [
       "<Figure size 432x288 with 1 Axes>"
      ]
     },
     "metadata": {
      "needs_background": "light"
     },
     "output_type": "display_data"
    },
    {
     "data": {
      "image/png": "[encoded data removed]",
      "text/plain": [
       "<Figure size 432x288 with 1 Axes>"
      ]
     },
     "metadata": {
      "needs_background": "light"
     },
     "output_type": "display_data"
    },
    {
     "data": {
      "image/png": "[encoded data removed]",
      "text/plain": [
       "<Figure size 432x288 with 1 Axes>"
      ]
     },
     "metadata": {
      "needs_background": "light"
     },
     "output_type": "display_data"
    },
    {
     "data": {
      "image/png": "[encoded data removed]",
      "text/plain": [
       "<Figure size 432x288 with 1 Axes>"
      ]
     },
     "metadata": {
      "needs_background": "light"
     },
     "output_type": "display_data"
    },
    {
     "data": {
      "image/png": "[encoded data removed]",
      "text/plain": [
       "<Figure size 432x288 with 1 Axes>"
      ]
     },
     "metadata": {
      "needs_background": "light"
     },
     "output_type": "display_data"
    },
    {
     "data": {
      "image/png": "[encoded data removed]",
      "text/plain": [
       "<Figure size 432x288 with 1 Axes>"
      ]
     },
     "metadata": {
      "needs_background": "light"
     },
     "output_type": "display_data"
    },
    {
     "data": {
      "image/png": "[encoded data removed]",
      "text/plain": [
       "<Figure size 432x288 with 1 Axes>"
      ]
     },
     "metadata": {
      "needs_background": "light"
     },
     "output_type": "display_data"
    },
    {
     "data": {
      "image/png": "[encoded data removed]",
      "text/plain": [
       "<Figure size 432x288 with 1 Axes>"
      ]
     },
     "metadata": {
      "needs_background": "light"
     },
     "output_type": "display_data"
    },
    {
     "data": {
      "image/png": "[encoded data removed]",
      "text/plain": [
       "<Figure size 432x288 with 1 Axes>"
      ]
     },
     "metadata": {
      "needs_background": "light"
     },
     "output_type": "display_data"
    },
    {
     "data": {
      "image/png": "[encoded data removed]",
      "text/plain": [
       "<Figure size 432x288 with 1 Axes>"
      ]
     },
     "metadata": {
      "needs_background": "light"
     },
     "output_type": "display_data"
    },
    {
     "data": {
      "image/png": "[encoded data removed]",
      "text/plain": [
       "<Figure size 432x288 with 1 Axes>"
      ]
     },
     "metadata": {
      "needs_background": "light"
     },
     "output_type": "display_data"
    },
    {
     "data": {
      "image/png": "[encoded data removed]",
      "text/plain": [
       "<Figure size 432x288 with 1 Axes>"
      ]
     },
     "metadata": {
      "needs_background": "light"
     },
     "output_type": "display_data"
    },
    {
     "data": {
      "image/png": "[encoded data removed]",
      "text/plain": [
       "<Figure size 432x288 with 1 Axes>"
      ]
     },
     "metadata": {
      "needs_background": "light"
     },
     "output_type": "display_data"
    },
    {
     "data": {
      "image/png": "[encoded data removed]",
      "text/plain": [
       "<Figure size 432x288 with 1 Axes>"
      ]
     },
     "metadata": {
      "needs_background": "light"
     },
     "output_type": "display_data"
    },
    {
     "data": {
      "image/png": "[encoded data removed]",
      "text/plain": [
       "<Figure size 432x288 with 1 Axes>"
      ]
     },
     "metadata": {
      "needs_background": "light"
     },
     "output_type": "display_data"
    },
    {
     "name": "stdout",
     "output_type": "stream",
     "text": [
      "No customers in the elevator\n"
     ]
    }
   ],
   "source": [
    "Elevator_sim1 = MyElevator(0,8)\n",
    "Elevator_sim1.user(user_list,False)"
   ]
  },
  {
   "cell_type": "code",
   "execution_count": 13,
   "metadata": {},
   "outputs": [
    {
     "data": {
      "text/plain": [
       "array([[0., 2.],\n",
       "       [1., 2.],\n",
       "       [2., 1.],\n",
       "       [3., 1.],\n",
       "       [4., 2.],\n",
       "       [5., 2.],\n",
       "       [6., 1.],\n",
       "       [7., 1.],\n",
       "       [8., 1.]])"
      ]
     },
     "execution_count": 13,
     "metadata": {},
     "output_type": "execute_result"
    }
   ],
   "source": [
    "Elevator_sim1.floors_visited  #1. column = floor, 2. column = count visits"
   ]
  },
  {
   "cell_type": "code",
   "execution_count": null,
   "metadata": {},
   "outputs": [],
   "source": []
  },
  {
   "cell_type": "code",
   "execution_count": null,
   "metadata": {},
   "outputs": [],
   "source": []
  }
 ],
 "metadata": {
  "kernelspec": {
   "display_name": "Python 3 (ipykernel)",
   "language": "python",
   "name": "python3"
  },
  "language_info": {
   "codemirror_mode": {
    "name": "ipython",
    "version": 3
   },
   "file_extension": ".py",
   "mimetype": "text/x-python",
   "name": "python",
   "nbconvert_exporter": "python",
   "pygments_lexer": "ipython3",
   "version": "3.9.12"
  }
 },
 "nbformat": 4,
 "nbformat_minor": 4
}
