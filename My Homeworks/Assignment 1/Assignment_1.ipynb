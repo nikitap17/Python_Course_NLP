{
 "cells": [
  {
   "cell_type": "markdown",
   "metadata": {},
   "source": [
    "<img src=\"https://communications.univie.ac.at/fileadmin/_processed_/csm_Uni_Logo_2016_2f47aacf37.jpg\" \n",
    "     alt=\"Logo Universität Wien\" \n",
    "     width=\"200\"/>\n",
    "\n",
    "# Practical Machine Learning for Natural Language Processing - 2023 SS  \n",
    "\n",
    "### Assigment 1 - Python for Poets  \n",
    "\n",
    "This assigment is an adaptation for Python of the original exercise [\"Unix for Poets\"](https://www.cs.upc.edu/~padro/Unixforpoets.pdf)"
   ]
  },
  {
   "cell_type": "markdown",
   "metadata": {},
   "source": [
    "***"
   ]
  },
  {
   "cell_type": "markdown",
   "metadata": {},
   "source": [
    "### Loading the document"
   ]
  },
  {
   "cell_type": "code",
   "execution_count": 3,
   "metadata": {},
   "outputs": [
    {
     "name": "stdout",
     "output_type": "stream",
     "text": [
      "KBR said Friday the global economic downturn so far has\n",
      "had\n",
      "little effect on its business but warned some projects on its books\n",
      "could be in jeopardy if the headwinds persist into next year.\n",
      "\n",
      "\"With the economic outlook remaining uncertain, it is possible\n",
      "that\n",
      "customers may cancel or delay projects that are under way,\" said\n",
      "William\n",
      "Utt, chief executive of the Houston-based engineering and\n",
      "construction\n",
      "giant and government contractor.\n",
      "\n",
      "He did not predict how much of the company's $15.3billion in\n",
      "future\n",
      "business commitments could be affected but downplayed the potential\n",
      "of\n",
      "any significant impact as \"limited.\"\n",
      "\n",
      "The remarks came during a conference call to discuss KBR's\n",
      "third-quarter\n",
      "financial results, which showed a 35percent improvement over the\n",
      "same\n",
      "period in 2007.\n",
      "\n",
      "KBR, which was spun off from Halliburton Co. last year, posted\n",
      "better\n",
      "numbers and beat analyst expectations after a new acquisition\n",
      "helped\n",
      "boost sales and offset losses because of Hurricane Ike.\n",
      "\n",
      "Net income rose to $85million,\n"
     ]
    }
   ],
   "source": [
    "with open(\"../../Data/txt/nyt_200811.txt\", \"r\") as f:\n",
    "    text = f.read()\n",
    "\n",
    "print(text[0:1000])"
   ]
  },
  {
   "cell_type": "markdown",
   "metadata": {},
   "source": [
    "***"
   ]
  },
  {
   "cell_type": "markdown",
   "metadata": {},
   "source": [
    "### You will solve the following exercises using **Pure Python**  \n",
    "### (only packages \"string\" and \"re\" are allowed).  \n",
    "\n",
    "1. Count words in a text  \n",
    "2. Sort a list of words in various ways  \n",
    "   • ascii order   \n",
    "   • \"rhyming\" order   \n",
    "3. Extract useful info for a dictionary  \n",
    "4. Compute ngram statistics  \n",
    "5. Make a Concordance  "
   ]
  },
  {
   "cell_type": "code",
   "execution_count": 404,
   "metadata": {
    "tags": []
   },
   "outputs": [],
   "source": [
    "import re\n",
    "import string\n",
    "dir(text)\n",
    "\n"
   ]
  },
  {
   "cell_type": "code",
   "execution_count": 37,
   "metadata": {
    "tags": []
   },
   "outputs": [
    {
     "data": {
      "text/plain": [
       "75457"
      ]
     },
     "execution_count": 37,
     "metadata": {},
     "output_type": "execute_result"
    }
   ],
   "source": [
    "upper = [m for m in words if m.istitle()]  #just checking some commands\n",
    "print(len(upper))\n",
    "upper[0].lower()  "
   ]
  },
  {
   "cell_type": "code",
   "execution_count": 422,
   "metadata": {
    "tags": []
   },
   "outputs": [
    {
     "name": "stdout",
     "output_type": "stream",
     "text": [
      "['kbr', 'said', 'friday', 'the', 'global', 'economic', 'downturn', 'so', 'far', 'has', 'had', 'little', 'effect', 'on', 'its', 'business', 'but', 'warned', 'some', 'projects', 'on', 'its', 'books', 'could', 'be', 'in', 'jeopardy', 'if', 'the', 'headwinds', 'persist', 'into', 'next', 'year', 'with', 'the', 'economic', 'outlook', 'remaining', 'uncertain', 'it', 'is', 'possible', 'that', 'customers', 'may', 'cancel', 'or', 'delay', 'projects', 'that', 'are', 'under', 'way', 'said', 'william', 'utt', 'chief', 'executive', 'of', 'the', 'houston-based', 'engineering', 'and', 'construction', 'giant', 'and', 'government', 'contractor', 'he', 'did', 'not', 'predict', 'how', 'much', 'of', 'the', \"company's\", 'billion', 'in', 'future', 'business', 'commitments', 'could', 'be', 'affected', 'but', 'downplayed', 'the', 'potential', 'of', 'any', 'significant', 'impact', 'as', 'limited', 'the', 'remarks', 'came', 'during']\n"
     ]
    }
   ],
   "source": [
    "words = text.split()\n",
    "#print(words[0:100])\n",
    "words_clean = [m.strip(string.punctuation) for m in words]\n",
    "words_clean = [m.strip(string.digits) for m in words_clean]\n",
    "words_clean = [m.strip(string.punctuation) for m in words_clean]\n",
    "words_clean = [m.strip(string.digits) for m in words_clean]\n",
    "words_clean = [m for m in words_clean if m != '']\n",
    "words_clean = [m.lower() for m in words_clean]\n",
    "\n",
    "print(words_clean[0:100])"
   ]
  },
  {
   "cell_type": "code",
   "execution_count": 427,
   "metadata": {
    "tags": []
   },
   "outputs": [
    {
     "name": "stdout",
     "output_type": "stream",
     "text": [
      "['kbr', 'said', 'friday', 'the', 'global', 'economic', 'downturn', 'so', 'far', 'has', 'had', 'little', 'effect', 'on', 'its', 'business', 'but', 'warned', 'some', 'projects', 'on', 'its', 'books', 'could', 'be', 'in', 'jeopardy', 'if', 'the', 'headwinds', 'persist', 'into', 'next', 'year', 'with', 'the', 'economic', 'outlook', 'remaining', 'uncertain', 'it', 'is', 'possible', 'that', 'customers', 'may', 'cancel', 'or', 'delay', 'projects', 'that', 'are', 'under', 'way', 'said', 'william', 'utt', 'chief', 'executive', 'of', 'the', 'houston-based', 'engineering', 'and', 'construction', 'giant', 'and', 'government', 'contractor', 'he', 'did', 'not', 'predict', 'how', 'much', 'of', 'the', 'company', 's', 'billion', 'in', 'future', 'business', 'commitments', 'could', 'be', 'affected', 'but', 'downplayed', 'the', 'potential', 'of', 'any', 'significant', 'impact', 'as', 'limited', 'the', 'remarks', 'came']\n"
     ]
    }
   ],
   "source": [
    "#according to chatGPT, contractions like \"company's\" or \"I'm\" are counted as one word. So, in the following,\n",
    "#I can either delete the contraction letters or I can keep them and treat them as different words - so \"I'm\" will not be counted\n",
    "#as \"I\" and so on. Or I can save both versions...\n",
    "\n",
    "words2 = text.replace(\"'\",\" \")  #tearing contarctions apart, no contractions in words2\n",
    "#print(words2[0:400])\n",
    "words2 = words2.split()\n",
    "#print(words2[0:100])\n",
    "words2_clean = [m.strip(string.punctuation) for m in words2]\n",
    "#print(words2_clean[0:100])\n",
    "words2_clean = [m.strip(string.digits) for m in words2_clean]\n",
    "words2_clean = [m.strip(string.punctuation) for m in words2_clean]\n",
    "words2_clean = [m.strip(string.digits) for m in words2_clean]\n",
    "#print(words2_clean[0:100])\n",
    "words2_clean = [m.lower() for m in words2_clean]\n",
    "words2_clean = [m for m in words2_clean if m != '']\n",
    "\n",
    "#words2_clean = sum(words2_clean, [])\n",
    "print(words2_clean[0:100])"
   ]
  },
  {
   "cell_type": "code",
   "execution_count": 430,
   "metadata": {
    "tags": []
   },
   "outputs": [
    {
     "name": "stdout",
     "output_type": "stream",
     "text": [
      "499511\n"
     ]
    }
   ],
   "source": [
    "print(len(words_clean))"
   ]
  },
  {
   "cell_type": "markdown",
   "metadata": {},
   "source": [
    "***"
   ]
  },
  {
   "cell_type": "markdown",
   "metadata": {},
   "source": [
    "#### 1. Count words in a text\n",
    "\n",
    "a. Output a list of words in the file along with their frequency counts (ignoring case).   \n",
    "a. Count how many unique words there are (ignoring case).    \n",
    "c. Check how common are all different sequences of vowels (e.g. the sequences \"ieu\" or just \"e\" in \"lieutenant\")?"
   ]
  },
  {
   "cell_type": "code",
   "execution_count": 423,
   "metadata": {},
   "outputs": [
    {
     "name": "stdout",
     "output_type": "stream",
     "text": [
      "[('kbr', 1), ('said', 2), ('friday', 1), ('the', 7), ('global', 1), ('economic', 2), ('downturn', 1), ('so', 1), ('far', 1), ('has', 1), ('had', 1), ('little', 1), ('effect', 1), ('on', 2), ('its', 2), ('business', 2), ('but', 2), ('warned', 1), ('some', 1), ('projects', 2), ('on', 2), ('its', 2), ('books', 1), ('could', 2), ('be', 2), ('in', 2), ('jeopardy', 1), ('if', 1), ('the', 7), ('headwinds', 1), ('persist', 1), ('into', 1), ('next', 1), ('year', 1), ('with', 1), ('the', 7), ('economic', 2), ('outlook', 1), ('remaining', 1), ('uncertain', 1), ('it', 1), ('is', 1), ('possible', 1), ('that', 2), ('customers', 1), ('may', 1), ('cancel', 1), ('or', 1), ('delay', 1), ('projects', 2), ('that', 2), ('are', 1), ('under', 1), ('way', 1), ('said', 2), ('william', 1), ('utt', 1), ('chief', 1), ('executive', 1), ('of', 3), ('the', 7), ('houston-based', 1), ('engineering', 1), ('and', 2), ('construction', 1), ('giant', 1), ('and', 2), ('government', 1), ('contractor', 1), ('he', 1), ('did', 1), ('not', 1), ('predict', 1), ('how', 1), ('much', 1), ('of', 3), ('the', 7), ('company', 1), ('s', 1), ('billion', 1), ('in', 2), ('future', 1), ('business', 2), ('commitments', 1), ('could', 2), ('be', 2), ('affected', 1), ('but', 2), ('downplayed', 1), ('the', 7), ('potential', 1), ('of', 3), ('any', 1), ('significant', 1), ('impact', 1), ('as', 1), ('limited', 1), ('the', 7), ('remarks', 1), ('came', 1)]\n"
     ]
    }
   ],
   "source": [
    "# a)\n",
    "def count_words(word_list):\n",
    "    words = [m.lower() for m in word_list]\n",
    "    \n",
    "    counted = []\n",
    "    for a,i in enumerate(words):\n",
    "        c = words.count(i)\n",
    "        counted.append((i, c))\n",
    "    return counted\n",
    "\n",
    "counts = count_words(words2_clean[0:100])  #i think the code might work well, however the whole text is way to big to put it in here, so i indexed it\n",
    "print(counts)\n",
    "\n"
   ]
  },
  {
   "cell_type": "code",
   "execution_count": 435,
   "metadata": {
    "tags": []
   },
   "outputs": [
    {
     "name": "stdout",
     "output_type": "stream",
     "text": [
      "words: 499511\n",
      "unique words: 29901\n"
     ]
    }
   ],
   "source": [
    "# b)\n",
    "print(f\"words: {len(words_clean)}\")\n",
    "print(f\"unique words: {len(set(words2_clean))}\")\n",
    "\n"
   ]
  },
  {
   "cell_type": "code",
   "execution_count": 518,
   "metadata": {},
   "outputs": [
    {
     "data": {
      "text/plain": [
       "[('e', 286904),\n",
       " ('a', 208486),\n",
       " ('o', 180005),\n",
       " ('i', 175776),\n",
       " ('u', 61342),\n",
       " ('ou', 17309),\n",
       " ('ea', 14435),\n",
       " ('io', 10975),\n",
       " ('ai', 10557),\n",
       " ('ie', 6442),\n",
       " ('ia', 5351),\n",
       " ('ei', 3364),\n",
       " ('au', 2470),\n",
       " ('ue', 2444),\n",
       " ('oi', 2026),\n",
       " ('ua', 1781),\n",
       " ('oa', 1651),\n",
       " ('eo', 1643),\n",
       " ('ui', 1635),\n",
       " ('oe', 750),\n",
       " ('iou', 506),\n",
       " ('eu', 471),\n",
       " ('ae', 244),\n",
       " ('iu', 218),\n",
       " ('eau', 131),\n",
       " ('uo', 103),\n",
       " ('ao', 75),\n",
       " ('oui', 63),\n",
       " ('eou', 61),\n",
       " ('uie', 44)]"
      ]
     },
     "execution_count": 518,
     "metadata": {},
     "output_type": "execute_result"
    }
   ],
   "source": [
    "# c)\n",
    "\n",
    "low_words2 = \" \".join(words2_clean)\n",
    "\n",
    "vowel_seq = []\n",
    "for a in (\"a\",\"e\",\"i\",\"o\",\"u\"):\n",
    "    for e in (\"a\",\"e\",\"i\",\"o\",\"u\"):\n",
    "        for i in (\"a\",\"e\",\"i\",\"o\",\"u\"):\n",
    "            for o in (\"a\",\"e\",\"i\",\"o\",\"u\"):\n",
    "                for u in (\"a\",\"e\",\"i\",\"o\",\"u\"):\n",
    "                    vowel_seq.append(a+e+i+o+u)\n",
    "                vowel_seq.append(a+e+i+o)\n",
    "            vowel_seq.append(a+e+i)\n",
    "        vowel_seq.append(a+e)\n",
    "    vowel_seq.append(a)\n",
    "                \n",
    "#print(vowel_seq[0:20])\n",
    "\n",
    "vowels =[]\n",
    "for m in vowel_seq:\n",
    "    if  m.count(\"a\") <2 and m.count(\"e\")<2 and m.count(\"i\") <2 and m.count(\"o\")<2 and m.count(\"u\") <2:\n",
    "        vowels.append(m)\n",
    "\n",
    "#print(vowels[0:20],len(vowels))\n",
    "\n",
    "freq_vls = []\n",
    "for i in vowels:\n",
    "    freq_vls.append((i, low_words2.count(i)))\n",
    "\n",
    "freq_vls[0:30]  #the result :-)#\n",
    "sorted(freq_vls, key= lambda x: x[1], reverse=True)[0:30]  #and here sorted accoding to frequency\n"
   ]
  },
  {
   "cell_type": "markdown",
   "metadata": {},
   "source": [
    "#### 2. Sorting and reversing lines of text\n",
    "\n",
    "a. Sort each line alphabetically (ignoring case).  \n",
    "b. Sort in numeric ([ascii](https://python-reference.readthedocs.io/en/latest/docs/str/ASCII.html)) order.  \n",
    "c. Alphabetically reverse sort (ignoring case).  \n",
    "d. Sort in reverse numeric ([ascii](https://python-reference.readthedocs.io/en/latest/docs/str/ASCII.html)) order.  "
   ]
  },
  {
   "cell_type": "code",
   "execution_count": 438,
   "metadata": {},
   "outputs": [
    {
     "data": {
      "text/plain": [
       "['\"with the economic outlook remaining uncertain, it is possible\\n',\n",
       " '$14.84 in\\n',\n",
       " 'and services division.\\n',\n",
       " 'any significant impact as \"limited.\"\\n',\n",
       " \"back of big gains in the company's government and infrastructure\\n\",\n",
       " 'better\\n',\n",
       " 'boost sales and offset losses because of hurricane ike.\\n',\n",
       " 'business commitments could be affected but downplayed the potential\\n',\n",
       " 'construction\\n',\n",
       " 'continuing operations totaled 44 cents per share, including\\n',\n",
       " 'could be in jeopardy if the headwinds persist into next year.\\n',\n",
       " 'customers may cancel or delay projects that are under way,\" said\\n',\n",
       " 'financial results, which showed a 35percent improvement over the\\n',\n",
       " 'future\\n',\n",
       " 'gas\\n',\n",
       " 'giant and government contractor.\\n',\n",
       " 'had\\n',\n",
       " \"he did not predict how much of the company's $15.3billion in\\n\",\n",
       " 'helped\\n',\n",
       " 'hurricane\\n',\n",
       " 'ike-related costs of 4 to 5 cents a share.\\n',\n",
       " 'in commenting on third-quarter earnings in recent days, oil and\\n',\n",
       " 'investors liked what they saw, boosting kbr shares 77 cents to\\n',\n",
       " 'kbr said friday the global economic downturn so far has\\n',\n",
       " 'kbr, which was spun off from halliburton co. last year, posted\\n',\n",
       " 'little effect on its business but warned some projects on its books\\n',\n",
       " 'million,\\n',\n",
       " 'net income rose to $85million, or 51 cents per share, from $63\\n',\n",
       " 'new york stock exchange trading.\\n',\n",
       " 'numbers and beat analyst expectations after a new acquisition\\n',\n",
       " 'of\\n',\n",
       " 'on the\\n',\n",
       " 'or 37 cents, in the july-september period of 2007. income from\\n',\n",
       " 'period in 2007.\\n',\n",
       " 'revenue climbed 39 percent to $3.02 billion from $2.18 billion,\\n',\n",
       " 'same\\n',\n",
       " 'that\\n',\n",
       " \"the remarks came during a conference call to discuss kbr's\\n\",\n",
       " 'third-quarter\\n',\n",
       " 'unit\\n',\n",
       " 'utt, chief executive of the houston-based engineering and\\n',\n",
       " 'william\\n']"
      ]
     },
     "execution_count": 438,
     "metadata": {},
     "output_type": "execute_result"
    }
   ],
   "source": [
    "# a)\n",
    "with open(\"../../Data/txt/nyt_200811.txt\", \"r\") as f:\n",
    "    data = f.readlines()\n",
    "\n",
    "data_short = data[0:50]\n",
    "data_short = [m for m in data_short if m != '\\n']\n",
    "data_short = [m.lower() for m in data_short]\n",
    "\n",
    "\n",
    "#print(data_short)\n",
    "sorted(data_short)\n",
    "#print(data[0:20])\n",
    "#for i in data[0:50]:\n",
    "#    print(i)\n",
    "\n",
    "#sorting with punctuation/numbers included"
   ]
  },
  {
   "cell_type": "code",
   "execution_count": 439,
   "metadata": {
    "tags": []
   },
   "outputs": [
    {
     "data": {
      "text/plain": [
       "[' in\\n',\n",
       " 'and services division\\n',\n",
       " 'any significant impact as limited\\n',\n",
       " 'back of big gains in the companys government and infrastructure\\n',\n",
       " 'better\\n',\n",
       " 'boost sales and offset losses because of hurricane ike\\n',\n",
       " 'business commitments could be affected but downplayed the potential\\n',\n",
       " 'construction\\n',\n",
       " 'continuing operations totaled  cents per share including\\n',\n",
       " 'could be in jeopardy if the headwinds persist into next year\\n',\n",
       " 'customers may cancel or delay projects that are under way said\\n',\n",
       " 'financial results which showed a percent improvement over the\\n',\n",
       " 'future\\n',\n",
       " 'gas\\n',\n",
       " 'giant and government contractor\\n',\n",
       " 'had\\n',\n",
       " 'he did not predict how much of the companys billion in\\n',\n",
       " 'helped\\n',\n",
       " 'hurricane\\n',\n",
       " 'ikerelated costs of  to  cents a share\\n',\n",
       " 'in commenting on thirdquarter earnings in recent days oil and\\n',\n",
       " 'investors liked what they saw boosting kbr shares  cents to\\n',\n",
       " 'kbr said friday the global economic downturn so far has\\n',\n",
       " 'kbr which was spun off from halliburton co last year posted\\n',\n",
       " 'little effect on its business but warned some projects on its books\\n',\n",
       " 'million\\n',\n",
       " 'net income rose to million or  cents per share from \\n',\n",
       " 'new york stock exchange trading\\n',\n",
       " 'numbers and beat analyst expectations after a new acquisition\\n',\n",
       " 'of\\n',\n",
       " 'on the\\n',\n",
       " 'or  cents in the julyseptember period of  income from\\n',\n",
       " 'period in \\n',\n",
       " 'revenue climbed  percent to  billion from  billion\\n',\n",
       " 'same\\n',\n",
       " 'that\\n',\n",
       " 'the remarks came during a conference call to discuss kbrs\\n',\n",
       " 'thirdquarter\\n',\n",
       " 'unit\\n',\n",
       " 'utt chief executive of the houstonbased engineering and\\n',\n",
       " 'william\\n',\n",
       " 'with the economic outlook remaining uncertain it is possible\\n']"
      ]
     },
     "execution_count": 439,
     "metadata": {},
     "output_type": "execute_result"
    }
   ],
   "source": [
    "# a) found a more efficient and reliable way for stripping -> .translate()\n",
    "\n",
    "#sorting without punctuation/numbers\n",
    "\n",
    "data_short = [m.translate(str.maketrans('','', string.punctuation)) for m in data_short]\n",
    "data_short = [m.translate(str.maketrans('','', string.digits)) for m in data_short]\n",
    "\n",
    "sorted(data_short) #didnt get rid of the blank space :/"
   ]
  },
  {
   "cell_type": "code",
   "execution_count": 440,
   "metadata": {},
   "outputs": [
    {
     "data": {
      "text/plain": [
       "['\"with the economic outlook remaining uncertain, it is possible\\n',\n",
       " '$14.84 in\\n',\n",
       " 'and services division.\\n',\n",
       " 'any significant impact as \"limited.\"\\n',\n",
       " \"back of big gains in the company's government and infrastructure\\n\",\n",
       " 'better\\n',\n",
       " 'boost sales and offset losses because of hurricane ike.\\n',\n",
       " 'business commitments could be affected but downplayed the potential\\n',\n",
       " 'construction\\n',\n",
       " 'continuing operations totaled 44 cents per share, including\\n',\n",
       " 'could be in jeopardy if the headwinds persist into next year.\\n',\n",
       " 'customers may cancel or delay projects that are under way,\" said\\n',\n",
       " 'financial results, which showed a 35percent improvement over the\\n',\n",
       " 'future\\n',\n",
       " 'gas\\n',\n",
       " 'giant and government contractor.\\n',\n",
       " 'had\\n',\n",
       " \"he did not predict how much of the company's $15.3billion in\\n\",\n",
       " 'helped\\n',\n",
       " 'hurricane\\n',\n",
       " 'ike-related costs of 4 to 5 cents a share.\\n',\n",
       " 'in commenting on third-quarter earnings in recent days, oil and\\n',\n",
       " 'investors liked what they saw, boosting kbr shares 77 cents to\\n',\n",
       " 'kbr said friday the global economic downturn so far has\\n',\n",
       " 'kbr, which was spun off from halliburton co. last year, posted\\n',\n",
       " 'little effect on its business but warned some projects on its books\\n',\n",
       " 'million,\\n',\n",
       " 'net income rose to $85million, or 51 cents per share, from $63\\n',\n",
       " 'new york stock exchange trading.\\n',\n",
       " 'numbers and beat analyst expectations after a new acquisition\\n',\n",
       " 'of\\n',\n",
       " 'on the\\n',\n",
       " 'or 37 cents, in the july-september period of 2007. income from\\n',\n",
       " 'period in 2007.\\n',\n",
       " 'revenue climbed 39 percent to $3.02 billion from $2.18 billion,\\n',\n",
       " 'same\\n',\n",
       " 'that\\n',\n",
       " \"the remarks came during a conference call to discuss kbr's\\n\",\n",
       " 'third-quarter\\n',\n",
       " 'unit\\n',\n",
       " 'utt, chief executive of the houston-based engineering and\\n',\n",
       " 'william\\n']"
      ]
     },
     "execution_count": 440,
     "metadata": {},
     "output_type": "execute_result"
    }
   ],
   "source": [
    "# b)\n",
    "data_short_n = data[0:50]\n",
    "data_short_n = [m for m in data_short_n if m != '\\n']\n",
    "data_short_n = [m.lower() for m in data_short_n]\n",
    "\n",
    "sorted(data_short_n)\n",
    "#is it this that you mean?"
   ]
  },
  {
   "cell_type": "code",
   "execution_count": 441,
   "metadata": {},
   "outputs": [
    {
     "data": {
      "text/plain": [
       "['with the economic outlook remaining uncertain it is possible\\n',\n",
       " 'william\\n',\n",
       " 'utt chief executive of the houstonbased engineering and\\n',\n",
       " 'unit\\n',\n",
       " 'thirdquarter\\n',\n",
       " 'the remarks came during a conference call to discuss kbrs\\n',\n",
       " 'that\\n',\n",
       " 'same\\n',\n",
       " 'revenue climbed  percent to  billion from  billion\\n',\n",
       " 'period in \\n',\n",
       " 'or  cents in the julyseptember period of  income from\\n',\n",
       " 'on the\\n',\n",
       " 'of\\n',\n",
       " 'numbers and beat analyst expectations after a new acquisition\\n',\n",
       " 'new york stock exchange trading\\n',\n",
       " 'net income rose to million or  cents per share from \\n',\n",
       " 'million\\n',\n",
       " 'little effect on its business but warned some projects on its books\\n',\n",
       " 'kbr which was spun off from halliburton co last year posted\\n',\n",
       " 'kbr said friday the global economic downturn so far has\\n',\n",
       " 'investors liked what they saw boosting kbr shares  cents to\\n',\n",
       " 'in commenting on thirdquarter earnings in recent days oil and\\n',\n",
       " 'ikerelated costs of  to  cents a share\\n',\n",
       " 'hurricane\\n',\n",
       " 'helped\\n',\n",
       " 'he did not predict how much of the companys billion in\\n',\n",
       " 'had\\n',\n",
       " 'giant and government contractor\\n',\n",
       " 'gas\\n',\n",
       " 'future\\n',\n",
       " 'financial results which showed a percent improvement over the\\n',\n",
       " 'customers may cancel or delay projects that are under way said\\n',\n",
       " 'could be in jeopardy if the headwinds persist into next year\\n',\n",
       " 'continuing operations totaled  cents per share including\\n',\n",
       " 'construction\\n',\n",
       " 'business commitments could be affected but downplayed the potential\\n',\n",
       " 'boost sales and offset losses because of hurricane ike\\n',\n",
       " 'better\\n',\n",
       " 'back of big gains in the companys government and infrastructure\\n',\n",
       " 'any significant impact as limited\\n',\n",
       " 'and services division\\n',\n",
       " ' in\\n']"
      ]
     },
     "execution_count": 441,
     "metadata": {},
     "output_type": "execute_result"
    }
   ],
   "source": [
    "# c)\n",
    "sorted(data_short,reverse=True)"
   ]
  },
  {
   "cell_type": "code",
   "execution_count": 442,
   "metadata": {},
   "outputs": [
    {
     "data": {
      "text/plain": [
       "['william\\n',\n",
       " 'utt, chief executive of the houston-based engineering and\\n',\n",
       " 'unit\\n',\n",
       " 'third-quarter\\n',\n",
       " \"the remarks came during a conference call to discuss kbr's\\n\",\n",
       " 'that\\n',\n",
       " 'same\\n',\n",
       " 'revenue climbed 39 percent to $3.02 billion from $2.18 billion,\\n',\n",
       " 'period in 2007.\\n',\n",
       " 'or 37 cents, in the july-september period of 2007. income from\\n',\n",
       " 'on the\\n',\n",
       " 'of\\n',\n",
       " 'numbers and beat analyst expectations after a new acquisition\\n',\n",
       " 'new york stock exchange trading.\\n',\n",
       " 'net income rose to $85million, or 51 cents per share, from $63\\n',\n",
       " 'million,\\n',\n",
       " 'little effect on its business but warned some projects on its books\\n',\n",
       " 'kbr, which was spun off from halliburton co. last year, posted\\n',\n",
       " 'kbr said friday the global economic downturn so far has\\n',\n",
       " 'investors liked what they saw, boosting kbr shares 77 cents to\\n',\n",
       " 'in commenting on third-quarter earnings in recent days, oil and\\n',\n",
       " 'ike-related costs of 4 to 5 cents a share.\\n',\n",
       " 'hurricane\\n',\n",
       " 'helped\\n',\n",
       " \"he did not predict how much of the company's $15.3billion in\\n\",\n",
       " 'had\\n',\n",
       " 'giant and government contractor.\\n',\n",
       " 'gas\\n',\n",
       " 'future\\n',\n",
       " 'financial results, which showed a 35percent improvement over the\\n',\n",
       " 'customers may cancel or delay projects that are under way,\" said\\n',\n",
       " 'could be in jeopardy if the headwinds persist into next year.\\n',\n",
       " 'continuing operations totaled 44 cents per share, including\\n',\n",
       " 'construction\\n',\n",
       " 'business commitments could be affected but downplayed the potential\\n',\n",
       " 'boost sales and offset losses because of hurricane ike.\\n',\n",
       " 'better\\n',\n",
       " \"back of big gains in the company's government and infrastructure\\n\",\n",
       " 'any significant impact as \"limited.\"\\n',\n",
       " 'and services division.\\n',\n",
       " '$14.84 in\\n',\n",
       " '\"with the economic outlook remaining uncertain, it is possible\\n']"
      ]
     },
     "execution_count": 442,
     "metadata": {},
     "output_type": "execute_result"
    }
   ],
   "source": [
    "# d)\n",
    "sorted(data_short_n,reverse=True)"
   ]
  },
  {
   "cell_type": "markdown",
   "metadata": {},
   "source": [
    "#### 3. Computing basic statistics\n",
    "\n",
    "a. Find the 50 most common words  \n",
    "b. Find the words in the NYT that end in \"zz\"  \n",
    "c. Count the lines, the words, and the characters  \n",
    "d. How many all uppercase words are there in this NYT file?  \n",
    "e, How many 4-letter words?  \n",
    "f. How many different words are there with no vowels?  \n",
    "g. **tricky:** How many “1 syllable” words are there?  "
   ]
  },
  {
   "cell_type": "code",
   "execution_count": 575,
   "metadata": {
    "tags": []
   },
   "outputs": [
    {
     "name": "stdout",
     "output_type": "stream",
     "text": [
      "['kbr', 'said', 'friday', 'the', 'global', 'economic', 'downturn', 'so', 'far', 'has', 'had', 'little', 'effect', 'on', 'its', 'business', 'but', 'warned', 'some', 'projects', 'on', 'its', 'books', 'could', 'be', 'in', 'jeopardy', 'if', 'the', 'headwinds', 'persist', 'into', 'next', 'year', 'with', 'the', 'economic', 'outlook', 'remaining', 'uncertain', 'it', 'is', 'possible', 'that', 'customers', 'may', 'cancel', 'or', 'delay', 'projects']\n"
     ]
    }
   ],
   "source": [
    "#text== unprocessed text\n",
    "text_clean=text.replace(\"'\",\" \")\n",
    "text_clean = text_clean.lower()\n",
    "text_clean = text_clean.split()\n",
    "text_clean = [m.translate(str.maketrans('','', string.punctuation)) for m in text_clean]\n",
    "text_clean = [m.translate(str.maketrans('','', string.digits)) for m in text_clean]\n",
    "text_clean = [m for m in text_clean if m != '']\n",
    "\n",
    "print(text_clean[0:50])"
   ]
  },
  {
   "cell_type": "code",
   "execution_count": 444,
   "metadata": {
    "tags": []
   },
   "outputs": [
    {
     "data": {
      "text/plain": [
       "'\\ndef count_words(word_list):\\n    words = [m.lower() for m in word_list]\\n    \\n    counted = []\\n    for a,i in enumerate(words):\\n        c = words.count(i)\\n        counted.append((i, c))\\n    return counted\\n'"
      ]
     },
     "execution_count": 444,
     "metadata": {},
     "output_type": "execute_result"
    }
   ],
   "source": [
    "#just a reminder of the function\n",
    "'''\n",
    "def count_words(word_list):\n",
    "    words = [m.lower() for m in word_list]\n",
    "    \n",
    "    counted = []\n",
    "    for a,i in enumerate(words):\n",
    "        c = words.count(i)\n",
    "        counted.append((i, c))\n",
    "    return counted\n",
    "'''"
   ]
  },
  {
   "cell_type": "code",
   "execution_count": 445,
   "metadata": {},
   "outputs": [
    {
     "data": {
      "text/plain": [
       "[('the', 514),\n",
       " ('to', 262),\n",
       " ('a', 243),\n",
       " ('and', 234),\n",
       " ('of', 229),\n",
       " ('in', 196),\n",
       " ('for', 125),\n",
       " ('s', 112),\n",
       " ('that', 97),\n",
       " ('said', 83),\n",
       " ('on', 82),\n",
       " ('it', 75),\n",
       " ('is', 75),\n",
       " ('he', 61),\n",
       " ('as', 59),\n",
       " ('with', 57),\n",
       " ('has', 52),\n",
       " ('but', 51),\n",
       " ('have', 50),\n",
       " ('are', 49),\n",
       " ('be', 46),\n",
       " ('by', 46),\n",
       " ('not', 43),\n",
       " ('from', 42),\n",
       " ('more', 41),\n",
       " ('its', 40),\n",
       " ('or', 39),\n",
       " ('they', 38),\n",
       " ('an', 38),\n",
       " ('who', 37),\n",
       " ('was', 37),\n",
       " ('their', 37),\n",
       " ('will', 36),\n",
       " ('at', 34),\n",
       " ('if', 32),\n",
       " ('students', 31),\n",
       " ('you', 30),\n",
       " ('which', 30),\n",
       " ('his', 30),\n",
       " ('state', 29),\n",
       " ('new', 29),\n",
       " ('kbr', 28),\n",
       " ('one', 27),\n",
       " ('i', 25),\n",
       " ('about', 24),\n",
       " ('couples', 24),\n",
       " ('this', 24),\n",
       " ('company', 23),\n",
       " ('when', 22),\n",
       " ('after', 22)]"
      ]
     },
     "execution_count": 445,
     "metadata": {},
     "output_type": "execute_result"
    }
   ],
   "source": [
    "# a)\n",
    "common_words = count_words(text_clean[0:9500])\n",
    "common_words = set(common_words)\n",
    "sorted_common_words = sorted(common_words, key= lambda x: x[1],reverse = True)\n",
    "sorted_common_words[0:50]\n",
    "#bc i seperated the contraction, we will find some 'nonesense' words, that is, the letters of the contraction,\n",
    "#e.g. s - probably derived from he's and company's and so on"
   ]
  },
  {
   "cell_type": "code",
   "execution_count": 449,
   "metadata": {
    "tags": []
   },
   "outputs": [
    {
     "data": {
      "text/plain": [
       "[('the', 531),\n",
       " ('to', 272),\n",
       " ('and', 243),\n",
       " ('of', 241),\n",
       " ('in', 210),\n",
       " ('for', 129),\n",
       " ('that', 102),\n",
       " ('said', 83),\n",
       " ('on', 83),\n",
       " ('it', 79),\n",
       " ('is', 77),\n",
       " ('with', 64),\n",
       " ('as', 61),\n",
       " ('he', 61),\n",
       " ('have', 55),\n",
       " ('are', 55),\n",
       " ('has', 55),\n",
       " ('but', 53),\n",
       " ('be', 47),\n",
       " ('by', 47),\n",
       " ('not', 46),\n",
       " ('they', 44),\n",
       " ('from', 43),\n",
       " ('their', 42),\n",
       " ('more', 41),\n",
       " ('its', 40),\n",
       " ('who', 40),\n",
       " ('or', 40),\n",
       " ('an', 39),\n",
       " ('was', 38),\n",
       " ('will', 36),\n",
       " ('you', 35),\n",
       " ('at', 34),\n",
       " ('if', 32),\n",
       " ('we', 32),\n",
       " ('students', 31),\n",
       " ('which', 31),\n",
       " ('new', 30),\n",
       " ('his', 30),\n",
       " ('state', 29),\n",
       " ('kbr', 28),\n",
       " ('one', 27),\n",
       " ('about', 26),\n",
       " ('couples', 25),\n",
       " ('company', 24),\n",
       " ('this', 24),\n",
       " ('your', 23),\n",
       " ('when', 23),\n",
       " ('were', 23),\n",
       " ('school', 22)]"
      ]
     },
     "execution_count": 449,
     "metadata": {},
     "output_type": "execute_result"
    }
   ],
   "source": [
    "text_clean_no_1letters = [m for m in text_clean if len(m)>1]\n",
    "#stripping one-letter-words, just for fun\n",
    "common_words = count_words(text_clean_no_1letters[0:9500])\n",
    "common_words = set(common_words)\n",
    "sorted_common_words = sorted(common_words, key= lambda x: x[1],reverse = True)\n",
    "sorted_common_words[0:50]"
   ]
  },
  {
   "cell_type": "code",
   "execution_count": 457,
   "metadata": {},
   "outputs": [
    {
     "name": "stdout",
     "output_type": "stream",
     "text": [
      "buzz\n",
      "buzz\n",
      "jazz\n",
      "buzz\n",
      "buzz\n",
      "jazz\n",
      "jazz\n",
      "jazz\n",
      "jazz\n",
      "jazz\n",
      "jazz\n",
      "buzz\n",
      "buzz\n",
      "buzz\n",
      "jazz\n",
      "buzz\n",
      "jazz\n",
      "pizazz\n",
      "buzz\n",
      "buzz\n",
      "jazz\n",
      "buzz\n"
     ]
    }
   ],
   "source": [
    "# b) Find the words in the NYT that end in \"zz\"\n",
    "\n",
    "for i in text_clean:\n",
    "    if len(i) > 1:\n",
    "        if i[-1] == \"z\" and i[-2] == \"z\":\n",
    "            print(i)"
   ]
  },
  {
   "cell_type": "code",
   "execution_count": 461,
   "metadata": {},
   "outputs": [
    {
     "name": "stdout",
     "output_type": "stream",
     "text": [
      "Words: 508083\n",
      "Characters: 3052306\n",
      "Lines: 70334\n"
     ]
    }
   ],
   "source": [
    "# c) Count the lines, the words, and the characters\n",
    "print(f\"Words: {len(text_clean)}\")\n",
    "\n",
    "print(f\"Characters: {len(text)}\") #all the characters of the original text, no strippings or modifications\n",
    "\n",
    "print(f\"Lines: {len(data)}\") #bc data equals our line-structured object of the NYT, see above"
   ]
  },
  {
   "cell_type": "code",
   "execution_count": 479,
   "metadata": {},
   "outputs": [
    {
     "name": "stdout",
     "output_type": "stream",
     "text": [
      "Uppercase Words: 7740\n"
     ]
    }
   ],
   "source": [
    "# d) How many all uppercase words are there in this NYT file?  \n",
    "text_clean2=text.replace(\"'\",\" \")\n",
    "#text_clean = text_clean.lower()\n",
    "text_clean2 = text_clean2.split()\n",
    "text_clean2 = [m.translate(str.maketrans('','', string.punctuation)) for m in text_clean2]\n",
    "text_clean2 = [m.translate(str.maketrans('','', string.digits)) for m in text_clean2]\n",
    "text_clean2 = [m for m in text_clean2 if m != '']\n",
    "\n",
    "uppers = [i.isupper() for i in text_clean2]\n",
    "print(f\"Uppercase Words: {sum(uppers)}\")"
   ]
  },
  {
   "cell_type": "code",
   "execution_count": 483,
   "metadata": {},
   "outputs": [
    {
     "name": "stdout",
     "output_type": "stream",
     "text": [
      "Four-letter Words: 84343\n"
     ]
    }
   ],
   "source": [
    "# e) How many 4-letter words?\n",
    "four_words = [i for i in text_clean if len(i) == 4]\n",
    "print(f\"Four-letter Words: {len(four_words)}\")"
   ]
  },
  {
   "cell_type": "code",
   "execution_count": 508,
   "metadata": {},
   "outputs": [
    {
     "name": "stdout",
     "output_type": "stream",
     "text": [
      "Different words without vowels: 277\n"
     ]
    }
   ],
   "source": [
    "# f) How many different words are there with no vowels?\n",
    "vls # from the code above, this variable contains the vowels\n",
    "no_vwl = []\n",
    "\n",
    "for i in text_clean:\n",
    "    if_cond = []\n",
    "    for v in vls:\n",
    "        if i.count(v) == 0:\n",
    "            if_cond.append(1)\n",
    "        else:\n",
    "            if_cond.append(0)\n",
    "    if all(if_cond): \n",
    "        no_vwl.append(i)\n",
    "\n",
    "print(\"Different words without vowels: \" + str(len(set(no_vwl))))"
   ]
  },
  {
   "cell_type": "code",
   "execution_count": 627,
   "metadata": {},
   "outputs": [
    {
     "name": "stdout",
     "output_type": "stream",
     "text": [
      "one-syllables: 260683\n",
      "uniques: 3807\n",
      "['the', 'so', 'far', 'has', 'had', 'little', 'on', 'its', 'but', 'some', 'on', 'its', 'be', 'in', 'if', 'the', 'next', 'with', 'the', 'it', 'is', 'that', 'may', 'or', 'that', 'are', 'way', 'utt', 'of', 'the', 'and', 'and', 'he', 'did', 'not', 'how', 'much', 'of', 'the', 'in', 'be', 'but', 'the', 'of', 'any', 'as', 'the', 'came', 'call', 'to', 'which', 'the', 'same', 'in', 'which', 'was', 'spun', 'off', 'from', 'co', 'last', 'and', 'new', 'and', 'of', 'ike', 'net', 'rose', 'to', 'or', 'cents', 'per', 'share', 'from', 'or', 'cents', 'in', 'the', 'of', 'from', 'cents', 'per', 'share', 'costs', 'of', 'to', 'cents', 'share', 'to', 'from', 'on', 'the', 'back', 'of', 'big', 'in', 'the', 'and', 'and', 'what']\n"
     ]
    }
   ],
   "source": [
    "# g) **tricky:** How many “1 syllable” words are there?\n",
    "\n",
    "##puuh.. we need to find rules - unfortunately, i'm not a linguist.. my best shot would be the following rules:\n",
    "# - there is only one vowel (or combo of vowels pronounced as one sound) in a word\n",
    "# - an exception of this rule is if the words ends with \"e\"\n",
    "# the \"ed\" part is tricky and will lead to some false positives, but it's still my best guess, so let's try\n",
    "\n",
    "vowels2 = vowels #thats all possible combos of vowels from an exercise above\n",
    "\n",
    "for i in vls:\n",
    "    if i in vowels2:\n",
    "        vowels2.remove(i)\n",
    "        \n",
    "#vls2 = vls\n",
    "#vls2.remove(\"e\")\n",
    "        \n",
    "\n",
    "v_inword =[]\n",
    "for word in text_clean:\n",
    "    vn = []\n",
    "    for v in vowels2:\n",
    "        vn.append(word.count(v))\n",
    "    vnsum = sum(vn)\n",
    "                \n",
    "    if vnsum == 0 or vnsum == 1:\n",
    "        for vo in vls:\n",
    "            vn.append(word.count(vo))\n",
    "    vnsum = sum(vn)\n",
    "            \n",
    "    if len(word) >1:\n",
    "        if vnsum == 1 or (vnsum ==2 and word[-1] == \"e\"): #or (vnsum ==2 and word[-1] == \"d\" and word[-2] == \"e\"):\n",
    "            v_inword.append(word)\n",
    "\n",
    "print(\"one-syllables: \" + str(len(v_inword)))\n",
    "print(\"uniques: \" + str(len(set(v_inword))))\n",
    "\n",
    "print(v_inword[0:100])\n",
    "\n"
   ]
  },
  {
   "cell_type": "markdown",
   "metadata": {},
   "source": [
    "#### 4. Compute ngrams  \n",
    "\n",
    "a. Find the 10 most common bigrams  \n",
    "b. Find the 10 most common trigrams  "
   ]
  },
  {
   "cell_type": "code",
   "execution_count": 587,
   "metadata": {},
   "outputs": [],
   "source": [
    "# a)\n",
    "text_clean3 = [m for m in text_clean if len(m)>1]\n",
    "text_joined = \" \".join(text_clean3)\n"
   ]
  },
  {
   "cell_type": "code",
   "execution_count": 588,
   "metadata": {
    "tags": []
   },
   "outputs": [],
   "source": [
    "bigrams = []\n",
    "for i in range(len(text_clean3)-1):\n",
    "    bigrams.append([text_clean3[i],text_clean3[i+1]])\n",
    "#bigrams[0:10]"
   ]
  },
  {
   "cell_type": "code",
   "execution_count": 589,
   "metadata": {
    "tags": []
   },
   "outputs": [],
   "source": [
    "bigrams = [\" \".join(m) for m in bigrams]\n",
    "#bigrams[0:10]"
   ]
  },
  {
   "cell_type": "code",
   "execution_count": 595,
   "metadata": {
    "tags": []
   },
   "outputs": [
    {
     "data": {
      "text/plain": [
       "[('in the', 11),\n",
       " ('of the', 7),\n",
       " ('the company', 5),\n",
       " ('cents per', 5),\n",
       " ('per share', 5),\n",
       " ('next year', 5),\n",
       " ('the industry', 4),\n",
       " ('on its', 4),\n",
       " ('million or', 4),\n",
       " ('or cents', 4)]"
      ]
     },
     "execution_count": 595,
     "metadata": {},
     "output_type": "execute_result"
    }
   ],
   "source": [
    "co_bigrams = []\n",
    "for i in bigrams:\n",
    "    co_bigrams.append((i,bigrams[0:1000].count(i))) #sorry, it takes way to long to compute bigrams for the whole text\n",
    "\n",
    "co_bigrams = set(co_bigrams)\n",
    "co_bigrams = sorted(co_bigrams, key= lambda x: x[1], reverse=True)\n",
    "co_bigrams[0:10]"
   ]
  },
  {
   "cell_type": "code",
   "execution_count": 597,
   "metadata": {},
   "outputs": [
    {
     "data": {
      "text/plain": [
       "[('cents per share', 5),\n",
       " ('million or cents', 4),\n",
       " ('oil and gas', 3),\n",
       " ('of to cents', 3),\n",
       " ('engineering and construction', 3),\n",
       " ('credit financial and', 2),\n",
       " ('the current credit', 2),\n",
       " ('share from million', 2),\n",
       " ('on thirdquarter earnings', 2),\n",
       " ('on the back', 2)]"
      ]
     },
     "execution_count": 597,
     "metadata": {},
     "output_type": "execute_result"
    }
   ],
   "source": [
    "# b)\n",
    "trigrams = []\n",
    "for i in range(len(text_clean3)-2):\n",
    "    trigrams.append([text_clean3[i],text_clean3[i+1],text_clean3[i+2]])\n",
    "\n",
    "\n",
    "trigrams = [\" \".join(m) for m in trigrams]\n",
    "\n",
    "co_trigrams = []\n",
    "for i in trigrams:\n",
    "    co_trigrams.append((i,trigrams[0:1000].count(i)))\n",
    "\n",
    "co_trigrams = set(co_trigrams)\n",
    "co_trigrams = sorted(co_trigrams, key= lambda x: x[1], reverse=True)\n",
    "co_trigrams[0:10]"
   ]
  },
  {
   "cell_type": "markdown",
   "metadata": {},
   "source": [
    "#### 5. Make a Concordance\n",
    "\n",
    "a. Create a concordance display for an arbitrary word. See the example below  \n",
    "\n",
    "![](../../Data/figs/Sample-concordance-lines-of-actually.png)"
   ]
  },
  {
   "cell_type": "code",
   "execution_count": 626,
   "metadata": {},
   "outputs": [
    {
     "name": "stdout",
     "output_type": "stream",
     "text": [
      "16\n"
     ]
    },
    {
     "data": {
      "text/plain": [
       "[\"... Clinton Portis 56 yards away from the magic 1,000 mark. Say what? What's so magic about \",\n",
       " \" the magic 1,000 mark. Say what? What's so magic about 1,000 yards in a 16-game season? ... \",\n",
       " ' or, if nothing else, a sip from a magic fountain that would restore his fading youth. He ',\n",
       " ' is not as if CBS has found a magic potion; its move to first place is mostly ',\n",
       " \" two others. But he couldn't produce the same magic in the fourth quarter. After an unnecessary roughness \",\n",
       " ' or, if nothing else, a sip from a magic fountain that would restore his fading youth. He ',\n",
       " \" is a simple one. Obama can reach the magic 270 electoral votes even if he doesn't carry \",\n",
       " \" right New Kids stuff for Christmas. Whatever their magic formula, it's back. The New Kids say it \",\n",
       " ' especially important. \"Media campaigns were themselves seen as magic bullets,\" Sappol said. In an iconic poster from ',\n",
       " ' got the polio vaccine, penicillin, DDT and other magic bullets, and that\\'s going to conquer disease,\" Sappol ',\n",
       " ' and persuade him to return to work his magic on Rebekka. It is Florens who is sent ',\n",
       " \" deployed by CNN. Baiting the hook: John King's magic screen. Setting it: the hypnotic electronic fever chart \",\n",
       " ' the game. \"He\\'ll pass on some of his magic to them.\" While Argentines may disagree over the ',\n",
       " ' same thing.\" Tymoshenko is also capable of political magic tricks. Last year she colluded with Yushchenko, withdrawing ',\n",
       " \" the candidates might reach 270 electoral votes, the magic number needed to claim the presidency. AND THEY'RE \",\n",
       " ' foodies. Where oh where, you ask, is this magic matchbook cover? How do I apply for this ',\n",
       " '']"
      ]
     },
     "execution_count": 626,
     "metadata": {},
     "output_type": "execute_result"
    }
   ],
   "source": [
    "# a)\n",
    "text_1 = text.split()\n",
    "print(text_1.count(\"magic\"))\n",
    "arr = (-8,-7,-6,-5,-4,-3,-2,-1,0,1,2,3,4,5,6,7,8)\n",
    "\n",
    "magic = []\n",
    "for a, i in enumerate(text_1):\n",
    "    if i == \"magic\":\n",
    "        for z in arr:\n",
    "            magic.append(text_1[a+z])\n",
    "        magic.append(\"__\")\n",
    "\n",
    "magic = \" \".join(magic)\n",
    "magic = magic.split(\"__\")\n",
    "magic\n",
    "        "
   ]
  },
  {
   "cell_type": "code",
   "execution_count": 609,
   "metadata": {
    "tags": []
   },
   "outputs": [
    {
     "data": {
      "text/plain": [
       "20"
      ]
     },
     "execution_count": 609,
     "metadata": {},
     "output_type": "execute_result"
    }
   ],
   "source": []
  },
  {
   "cell_type": "markdown",
   "metadata": {},
   "source": [
    "***"
   ]
  },
  {
   "cell_type": "markdown",
   "metadata": {},
   "source": [
    "##### Extra Credit – Secret Message\n",
    "+ The answers to the extra credit exercises will reveal a secret message.  \n",
    "+ We will be working with the following text file for these exercises:  \n",
    "[Link to Text](https://web.stanford.edu/class/cs124/lec/secret_ec.txt)  \n",
    "(No starter code in the Extra Credit)  "
   ]
  },
  {
   "cell_type": "code",
   "execution_count": 632,
   "metadata": {},
   "outputs": [
    {
     "name": "stdout",
     "output_type": "stream",
     "text": [
      "enjoy omniscient defeated doubt squeak activity screw defeated bawl hair the crazy messy screeching and excellent motion the part about crazy there are puzzling foot grip object ship crazy best squeak clover motion the bubble invent somber and mint admit the somber like abashed bubble crazy help there crazy approval mundane cows it bare grip hair monkey face all enjoy object the bubble excellent it range unpack car heat toes there are clover reign the range spurious unix is birth mock crazy attraction are all ratty broad tacit sincere abashed purple they can mint queen all face and the squeak courageous the mass reign bawl best it the admit brush theory flowery meat cave car hesitant crazy laughable every toe divergent the bubble crazy the bubble tempt amount screeching excellent brush hallowed coast ratty the cave object bee activity mass bitter degree best crazy fish the bag nervous harmony doubt and part about harmony birth screeching there kneel heat the bubble grip like tacit temp\n"
     ]
    }
   ],
   "source": [
    "with open(\"../../My Homeworks/Assignment 1/secrettxt.txt\", \"r\") as f:\n",
    "    text = f.read()\n",
    "\n",
    "print(text[0:1000])"
   ]
  },
  {
   "cell_type": "markdown",
   "metadata": {},
   "source": [
    "##### Extra Credit Exercise 1\n",
    "• Find the 2 most common words in secret_ec.txt containing the letter e.  \n",
    "• Your answer will correspond to the first two words of the secret message.  "
   ]
  },
  {
   "cell_type": "code",
   "execution_count": 641,
   "metadata": {
    "tags": []
   },
   "outputs": [
    {
     "name": "stdout",
     "output_type": "stream",
     "text": [
      "[('the', 22), ('best', 11)]\n"
     ]
    },
    {
     "data": {
      "text/plain": [
       "['the', 'best']"
      ]
     },
     "execution_count": 641,
     "metadata": {},
     "output_type": "execute_result"
    }
   ],
   "source": [
    "words = text.split()\n",
    "words_e = [m for m in words if \"e\" in m]\n",
    "\n",
    "common_words = count_words(words_e)\n",
    "common_words = set(common_words)\n",
    "sorted_common_words = sorted(common_words, key= lambda x: x[1],reverse = True)\n",
    "print(sorted_common_words[0:2])\n",
    "part_1 = [sorted_common_words[0][0],sorted_common_words[1][0]]\n",
    "part_1"
   ]
  },
  {
   "cell_type": "markdown",
   "metadata": {},
   "source": [
    "##### Extra Credit Exercise 2\n",
    "• Find the 2 most common bigrams in secret_ec.txt where the second word in the bigram ends with a consonant.  \n",
    "• Your answer will correspond to the next four words of the secret message.  "
   ]
  },
  {
   "cell_type": "code",
   "execution_count": 642,
   "metadata": {},
   "outputs": [
    {
     "name": "stdout",
     "output_type": "stream",
     "text": [
      "['enjoy omniscient', 'omniscient defeated', 'defeated doubt', 'doubt squeak', 'squeak activity', 'activity screw', 'screw defeated', 'defeated bawl', 'bawl hair', 'hair the', 'the crazy', 'crazy messy', 'messy screeching', 'screeching and', 'and excellent', 'excellent motion', 'motion the', 'the part', 'part about', 'about crazy']\n",
      "[('the bubble', 7), ('part about', 6)]\n"
     ]
    },
    {
     "data": {
      "text/plain": [
       "['part about', 'the bubble']"
      ]
     },
     "execution_count": 642,
     "metadata": {},
     "output_type": "execute_result"
    }
   ],
   "source": [
    "bigrams = []\n",
    "for i in range(len(words)-1):\n",
    "    bigrams.append([words[i],words[i+1]])\n",
    "\n",
    "bigrams = [\" \".join(m) for m in bigrams]\n",
    "print(bigrams[0:20])\n",
    "\n",
    "co_bigrams = []\n",
    "for i in bigrams:\n",
    "    co_bigrams.append((i,bigrams.count(i)))\n",
    "\n",
    "co_bigrams = set(co_bigrams)\n",
    "co_bigrams = sorted(co_bigrams, key= lambda x: x[1], reverse=True)\n",
    "print(co_bigrams[0:2])\n",
    "\n",
    "part_2 = [co_bigrams[1][0],co_bigrams[0][0]]\n",
    "part_2"
   ]
  },
  {
   "cell_type": "markdown",
   "metadata": {},
   "source": [
    "##### Extra Credit Exercise 3\n",
    "• Find all 5-letter-long words that only appear once in secret_ec.txt.   \n",
    "• Concatenate your result. This will be the final word of the secret message.  \n",
    "\n",
    "What is the secret message?  "
   ]
  },
  {
   "cell_type": "code",
   "execution_count": 649,
   "metadata": {},
   "outputs": [
    {
     "data": {
      "text/plain": [
       "['everything']"
      ]
     },
     "execution_count": 649,
     "metadata": {},
     "output_type": "execute_result"
    }
   ],
   "source": [
    "five_l = [m for m in words if len(m) == 5]\n",
    "\n",
    "uniques = [l for l in five_l if five_l.count(l) == 1]\n",
    "     \n",
    "part_3 = [\"\".join(uniques)]\n",
    "part_3"
   ]
  },
  {
   "cell_type": "code",
   "execution_count": 651,
   "metadata": {
    "tags": []
   },
   "outputs": [
    {
     "data": {
      "text/plain": [
       "['the', 'best', 'part about', 'the bubble', 'everything']"
      ]
     },
     "execution_count": 651,
     "metadata": {},
     "output_type": "execute_result"
    }
   ],
   "source": [
    "secret_message = part_1 + part_2 + part_3\n",
    "secret_message"
   ]
  },
  {
   "cell_type": "code",
   "execution_count": null,
   "metadata": {},
   "outputs": [],
   "source": [
    "# \"The best part about the bubble [is] everything\"?\n",
    "# \"The best part about the bubble[:] everything\"?"
   ]
  }
 ],
 "metadata": {
  "kernelspec": {
   "display_name": "Python 3 (ipykernel)",
   "language": "python",
   "name": "python3"
  },
  "language_info": {
   "codemirror_mode": {
    "name": "ipython",
    "version": 3
   },
   "file_extension": ".py",
   "mimetype": "text/x-python",
   "name": "python",
   "nbconvert_exporter": "python",
   "pygments_lexer": "ipython3",
   "version": "3.11.2"
  }
 },
 "nbformat": 4,
 "nbformat_minor": 4
}
